{
 "cells": [
  {
   "cell_type": "markdown",
   "metadata": {
    "vscode": {
     "languageId": "plaintext"
    }
   },
   "source": [
    "# Assessment Course Work"
   ]
  },
  {
   "cell_type": "markdown",
   "metadata": {},
   "source": [
    "## Data Pre-Processing"
   ]
  },
  {
   "cell_type": "code",
   "execution_count": 2,
   "metadata": {},
   "outputs": [],
   "source": [
    "import numpy as np\n",
    "import matplotlib.pyplot as plt\n",
    "import seaborn as sns\n",
    "from sklearn.linear_model import LinearRegression \n",
    "import time\n",
    "\n",
    "import pandas as pd\n",
    "import dask.dataframe as dd\n",
    "import dask.array as da\n",
    "import dask.bag as db"
   ]
  },
  {
   "cell_type": "code",
   "execution_count": 3,
   "metadata": {},
   "outputs": [],
   "source": [
    "data = pd.read_csv(\"Travel_by_Distance.csv\")\n",
    "data2 = pd.read_csv(\"Travel_Full_Data.csv\")"
   ]
  },
  {
   "cell_type": "markdown",
   "metadata": {},
   "source": [
    "## Cleaning Data"
   ]
  },
  {
   "cell_type": "code",
   "execution_count": 4,
   "metadata": {},
   "outputs": [
    {
     "name": "stdout",
     "output_type": "stream",
     "text": [
      "          Level       Date  State FIPS State Postal Code  County FIPS  \\\n",
      "21061    County   6/6/2021        56.0                WY      56045.0   \n",
      "22762    County   6/6/2021         5.0                AR       5011.0   \n",
      "22763    County   6/6/2021         5.0                AR       5013.0   \n",
      "22764    County   6/6/2021         5.0                AR       5015.0   \n",
      "22765    County   6/6/2021         5.0                AR       5017.0   \n",
      "...         ...        ...         ...               ...          ...   \n",
      "1048570  County  11/1/2019        19.0                IA      19185.0   \n",
      "1048571  County  11/1/2019        19.0                IA      19187.0   \n",
      "1048572  County  11/1/2019        19.0                IA      19189.0   \n",
      "1048573  County  11/1/2019        19.0                IA      19191.0   \n",
      "1048574  County  11/1/2019        19.0                IA      19193.0   \n",
      "\n",
      "               County Name  Population Staying at Home  \\\n",
      "21061        Weston County                      1268.0   \n",
      "22762       Bradley County                      1780.0   \n",
      "22763       Calhoun County                       571.0   \n",
      "22764       Carroll County                      4386.0   \n",
      "22765        Chicot County                      1356.0   \n",
      "...                    ...                         ...   \n",
      "1048570       Wayne County                      1360.0   \n",
      "1048571     Webster County                      7633.0   \n",
      "1048572   Winnebago County                      2377.0   \n",
      "1048573  Winneshiek County                      3972.0   \n",
      "1048574    Woodbury County                     19419.0   \n",
      "\n",
      "         Population Not Staying at Home  Number of Trips  Number of Trips <1  \\\n",
      "21061                            5659.0          22471.0              4160.0   \n",
      "22762                            8983.0          25022.0              3411.0   \n",
      "22763                            4618.0          17543.0              2166.0   \n",
      "22764                           23994.0          77047.0             14712.0   \n",
      "22765                            8762.0          31550.0              9483.0   \n",
      "...                                 ...              ...                 ...   \n",
      "1048570                          5081.0          28297.0              5784.0   \n",
      "1048571                         28271.0         166016.0             32150.0   \n",
      "1048572                          7977.0          40352.0              9789.0   \n",
      "1048573                         16019.0          78526.0             16644.0   \n",
      "1048574                         83688.0         541096.0            164342.0   \n",
      "\n",
      "         ...  Number of Trips 5-10  Number of Trips 10-25  \\\n",
      "21061    ...                1558.0                 5723.0   \n",
      "22762    ...                4321.0                 3343.0   \n",
      "22763    ...                3600.0                 4277.0   \n",
      "22764    ...               13170.0                14712.0   \n",
      "22765    ...                3929.0                 3857.0   \n",
      "...      ...                   ...                    ...   \n",
      "1048570  ...                4114.0                 7260.0   \n",
      "1048571  ...                6450.0                30274.0   \n",
      "1048572  ...                6670.0                 8829.0   \n",
      "1048573  ...               12374.0                19696.0   \n",
      "1048574  ...               73881.0                53044.0   \n",
      "\n",
      "         Number of Trips 25-50  Number of Trips 50-100  \\\n",
      "21061                   2202.0                  3930.0   \n",
      "22762                   1793.0                  1383.0   \n",
      "22763                   1141.0                   530.0   \n",
      "22764                   4272.0                  1227.0   \n",
      "22765                   1380.0                   580.0   \n",
      "...                        ...                     ...   \n",
      "1048570                 5522.0                  2398.0   \n",
      "1048571                 6826.0                  5116.0   \n",
      "1048572                 4652.0                  1101.0   \n",
      "1048573                 6665.0                  3832.0   \n",
      "1048574                16927.0                  7606.0   \n",
      "\n",
      "         Number of Trips 100-250  Number of Trips 250-500  \\\n",
      "21061                     1160.0                    166.0   \n",
      "22762                      690.0                     35.0   \n",
      "22763                      425.0                     41.0   \n",
      "22764                     1323.0                    132.0   \n",
      "22765                      957.0                     61.0   \n",
      "...                          ...                      ...   \n",
      "1048570                    530.0                     25.0   \n",
      "1048571                   1058.0                    243.0   \n",
      "1048572                    115.0                     52.0   \n",
      "1048573                    216.0                     54.0   \n",
      "1048574                   3319.0                    123.0   \n",
      "\n",
      "         Number of Trips >=500             Row ID  Week Month  \n",
      "21061                     23.0  56-56045-20210606    23     6  \n",
      "22762                      0.0  05-05011-20210606    23     6  \n",
      "22763                      0.0  05-05013-20210606    23     6  \n",
      "22764                     36.0  05-05015-20210606    23     6  \n",
      "22765                      4.0  05-05017-20210606    23     6  \n",
      "...                        ...                ...   ...   ...  \n",
      "1048570                    3.0  19-19185-20191101    43    11  \n",
      "1048571                   95.0  19-19187-20191101    43    11  \n",
      "1048572                   40.0  19-19189-20191101    43    11  \n",
      "1048573                    0.0  19-19191-20191101    43    11  \n",
      "1048574                   77.0  19-19193-20191101    43    11  \n",
      "\n",
      "[988773 rows x 22 columns]\n"
     ]
    }
   ],
   "source": [
    "data = data.replace('',np.nan)\n",
    "data = data.dropna(axis=0)\n",
    "data = data.drop_duplicates()\n",
    "print(data)"
   ]
  },
  {
   "cell_type": "markdown",
   "metadata": {},
   "source": [
    "## Data Catergorisation"
   ]
  },
  {
   "cell_type": "code",
   "execution_count": 5,
   "metadata": {},
   "outputs": [],
   "source": [
    "df = dd.from_pandas(data)\n",
    "df2 = dd.from_pandas(data2)"
   ]
  },
  {
   "cell_type": "markdown",
   "metadata": {},
   "source": [
    "### Question 1A"
   ]
  },
  {
   "cell_type": "code",
   "execution_count": 6,
   "metadata": {},
   "outputs": [
    {
     "data": {
      "text/plain": [
       "45"
      ]
     },
     "execution_count": 6,
     "metadata": {},
     "output_type": "execute_result"
    }
   ],
   "source": [
    "df['Week'].nunique().compute()"
   ]
  },
  {
   "cell_type": "code",
   "execution_count": 35,
   "metadata": {},
   "outputs": [
    {
     "data": {
      "text/plain": [
       "900810.9264714143"
      ]
     },
     "execution_count": 35,
     "metadata": {},
     "output_type": "execute_result"
    }
   ],
   "source": [
    "ph = df.groupby(by = 'Week') ['Population Staying at Home']\n",
    "pop_at_home = df.groupby(by = 'Week') ['Population Staying at Home'].mean()\n",
    "pop_at_home.compute()\n",
    "pop_at_home.sum().compute()"
   ]
  },
  {
   "cell_type": "markdown",
   "metadata": {},
   "source": [
    "#### Histogram"
   ]
  },
  {
   "cell_type": "code",
   "execution_count": 8,
   "metadata": {},
   "outputs": [
    {
     "data": {
      "text/plain": [
       "(array([ 1.,  0.,  0.,  0.,  0.,  0.,  0.,  3., 25., 16.]),\n",
       " array([ 7465.21212121,  8918.54751175, 10371.88290228, 11825.21829281,\n",
       "        13278.55368335, 14731.88907388, 16185.22446442, 17638.55985495,\n",
       "        19091.89524548, 20545.23063602, 21998.56602655]),\n",
       " <BarContainer object of 10 artists>)"
      ]
     },
     "execution_count": 8,
     "metadata": {},
     "output_type": "execute_result"
    },
    {
     "data": {
      "image/png": "[encoded data removed]",
      "text/plain": [
       "<Figure size 640x480 with 1 Axes>"
      ]
     },
     "metadata": {},
     "output_type": "display_data"
    }
   ],
   "source": [
    "plt.hist(pop_at_home)"
   ]
  },
  {
   "cell_type": "code",
   "execution_count": 9,
   "metadata": {},
   "outputs": [],
   "source": [
    "Tripss = df2['Trips 1-25 Miles'].compute()"
   ]
  },
  {
   "cell_type": "code",
   "execution_count": 10,
   "metadata": {},
   "outputs": [
    {
     "data": {
      "text/plain": [
       "(array([1., 0., 0., 1., 1., 1., 0., 2., 0., 1.]),\n",
       " array([9.34957837e+08, 9.49911886e+08, 9.64865935e+08, 9.79819983e+08,\n",
       "        9.94774032e+08, 1.00972808e+09, 1.02468213e+09, 1.03963618e+09,\n",
       "        1.05459023e+09, 1.06954428e+09, 1.08449832e+09]),\n",
       " <BarContainer object of 10 artists>)"
      ]
     },
     "execution_count": 10,
     "metadata": {},
     "output_type": "execute_result"
    },
    {
     "data": {
      "image/png": "[encoded data removed]",
      "text/plain": [
       "<Figure size 640x480 with 1 Axes>"
      ]
     },
     "metadata": {},
     "output_type": "display_data"
    }
   ],
   "source": [
    "plt.hist(Tripss)"
   ]
  },
  {
   "cell_type": "markdown",
   "metadata": {},
   "source": [
    "### Question 1B"
   ]
  },
  {
   "cell_type": "code",
   "execution_count": 11,
   "metadata": {},
   "outputs": [
    {
     "data": {
      "text/plain": [
       "Dask Series Structure:\n",
       "npartitions=1\n",
       "21061      string\n",
       "1048574       ...\n",
       "Dask Name: getitem, 5 expressions\n",
       "Expr=(Filter(frame=df, predicate=df['Number of Trips 50-100'] > 10000000))['Date']"
      ]
     },
     "execution_count": 11,
     "metadata": {},
     "output_type": "execute_result"
    }
   ],
   "source": [
    "Trips1025 = df[df['Number of Trips 10-25'] > 10000000]\n",
    "Trips1025['Date']\n",
    "\n",
    "Trips50100 = df[df['Number of Trips 50-100'] > 10000000]\n",
    "Trips50100['Date']"
   ]
  },
  {
   "cell_type": "code",
   "execution_count": 12,
   "metadata": {},
   "outputs": [
    {
     "name": "stderr",
     "output_type": "stream",
     "text": [
      "c:\\Users\\reeti\\anaconda3\\Lib\\site-packages\\dask\\dataframe\\core.py:3769: UserWarning: Dask currently has limited support for converting pandas extension dtypes to arrays. Converting string to object dtype.\n",
      "  warnings.warn(\n",
      "c:\\Users\\reeti\\anaconda3\\Lib\\site-packages\\dask\\dataframe\\core.py:3769: UserWarning: Dask currently has limited support for converting pandas extension dtypes to arrays. Converting string to object dtype.\n",
      "  warnings.warn(\n",
      "c:\\Users\\reeti\\anaconda3\\Lib\\site-packages\\dask\\dataframe\\core.py:3769: UserWarning: Dask currently has limited support for converting pandas extension dtypes to arrays. Converting string to object dtype.\n",
      "  warnings.warn(\n",
      "c:\\Users\\reeti\\anaconda3\\Lib\\site-packages\\dask\\dataframe\\core.py:3769: UserWarning: Dask currently has limited support for converting pandas extension dtypes to arrays. Converting string to object dtype.\n",
      "  warnings.warn(\n"
     ]
    },
    {
     "data": {
      "text/plain": [
       "<matplotlib.collections.PathCollection at 0x1679e01c230>"
      ]
     },
     "execution_count": 12,
     "metadata": {},
     "output_type": "execute_result"
    },
    {
     "data": {
      "image/png": "[encoded data removed]",
      "text/plain": [
       "<Figure size 640x480 with 1 Axes>"
      ]
     },
     "metadata": {},
     "output_type": "display_data"
    }
   ],
   "source": [
    "plt.scatter(Trips1025,Trips1025['Date'])"
   ]
  },
  {
   "cell_type": "code",
   "execution_count": 13,
   "metadata": {},
   "outputs": [
    {
     "name": "stderr",
     "output_type": "stream",
     "text": [
      "c:\\Users\\reeti\\anaconda3\\Lib\\site-packages\\dask\\dataframe\\core.py:3769: UserWarning: Dask currently has limited support for converting pandas extension dtypes to arrays. Converting string to object dtype.\n",
      "  warnings.warn(\n",
      "c:\\Users\\reeti\\anaconda3\\Lib\\site-packages\\dask\\dataframe\\core.py:3769: UserWarning: Dask currently has limited support for converting pandas extension dtypes to arrays. Converting string to object dtype.\n",
      "  warnings.warn(\n",
      "c:\\Users\\reeti\\anaconda3\\Lib\\site-packages\\dask\\dataframe\\core.py:3769: UserWarning: Dask currently has limited support for converting pandas extension dtypes to arrays. Converting string to object dtype.\n",
      "  warnings.warn(\n",
      "c:\\Users\\reeti\\anaconda3\\Lib\\site-packages\\dask\\dataframe\\core.py:3769: UserWarning: Dask currently has limited support for converting pandas extension dtypes to arrays. Converting string to object dtype.\n",
      "  warnings.warn(\n"
     ]
    },
    {
     "data": {
      "text/plain": [
       "<matplotlib.collections.PathCollection at 0x1679dfd6600>"
      ]
     },
     "execution_count": 13,
     "metadata": {},
     "output_type": "execute_result"
    },
    {
     "data": {
      "image/png": "[encoded data removed]",
      "text/plain": [
       "<Figure size 640x480 with 1 Axes>"
      ]
     },
     "metadata": {},
     "output_type": "display_data"
    }
   ],
   "source": [
    "plt.scatter(Trips50100,Trips50100['Date'])"
   ]
  },
  {
   "cell_type": "markdown",
   "metadata": {},
   "source": [
    "### Question 1C"
   ]
  },
  {
   "cell_type": "markdown",
   "metadata": {},
   "source": [
    "#### Pandas"
   ]
  },
  {
   "cell_type": "code",
   "execution_count": null,
   "metadata": {},
   "outputs": [],
   "source": []
  },
  {
   "cell_type": "markdown",
   "metadata": {},
   "source": [
    "#### Dask"
   ]
  },
  {
   "cell_type": "code",
   "execution_count": 14,
   "metadata": {},
   "outputs": [
    {
     "name": "stdout",
     "output_type": "stream",
     "text": [
      "{10: 1.2462725639343262, 20: 1.3359055519104004}\n"
     ]
    }
   ],
   "source": [
    "n_processors = [10,20]\n",
    "n_processors_time = {}\n",
    "\n",
    "for processor in n_processors:\n",
    "    start_time = time.time()\n",
    "    #Code from Question 1A\n",
    "    pop_at_home = df.groupby(by = 'Week') ['Population Staying at Home'].mean()\n",
    "    pop_at_home.compute()\n",
    "    pop_at_home.sum().compute()\n",
    "    dask_time = time.time() - start_time\n",
    "    n_processors_time[processor] = dask_time\n",
    "\n",
    "print(n_processors_time)\n"
   ]
  },
  {
   "cell_type": "markdown",
   "metadata": {},
   "source": [
    "### Question 1D"
   ]
  },
  {
   "cell_type": "code",
   "execution_count": 15,
   "metadata": {},
   "outputs": [
    {
     "data": {
      "text/plain": [
       "1.0"
      ]
     },
     "execution_count": 15,
     "metadata": {},
     "output_type": "execute_result"
    }
   ],
   "source": [
    "y = df[(df['Week']=='32')]['Number of Trips 10-25']\n",
    "x = df2['Trips 10-25 Miles']\n",
    "x2 = df.iloc[:,13]\n",
    "y2 = df2.iloc[:,12]\n",
    "y2 = np.array(x2).reshape((-1,1))\n",
    "model = LinearRegression()\n",
    "model.fit(y2,x2)\n",
    "\n",
    "model.score(y2,x2)"
   ]
  },
  {
   "cell_type": "markdown",
   "metadata": {},
   "source": [
    "### Question 1E"
   ]
  },
  {
   "cell_type": "code",
   "execution_count": 16,
   "metadata": {},
   "outputs": [
    {
     "data": {
      "text/plain": [
       "(array([2., 1., 2., 0., 0., 0., 1., 0., 0., 1.]),\n",
       " array([2.58404133e+08, 2.59773861e+08, 2.61143590e+08, 2.62513318e+08,\n",
       "        2.63883047e+08, 2.65252775e+08, 2.66622503e+08, 2.67992232e+08,\n",
       "        2.69361960e+08, 2.70731689e+08, 2.72101417e+08]),\n",
       " <BarContainer object of 10 artists>)"
      ]
     },
     "execution_count": 16,
     "metadata": {},
     "output_type": "execute_result"
    },
    {
     "data": {
      "image/png": "[encoded data removed]",
      "text/plain": [
       "<Figure size 640x480 with 1 Axes>"
      ]
     },
     "metadata": {},
     "output_type": "display_data"
    }
   ],
   "source": [
    "x1 = df2['People Not Staying at Home']\n",
    "plt.hist(x1, label='Graph')\n"
   ]
  },
  {
   "cell_type": "code",
   "execution_count": 17,
   "metadata": {},
   "outputs": [
    {
     "data": {
      "text/plain": [
       "([<matplotlib.patches.Wedge at 0x1679ca0ec00>,\n",
       "  <matplotlib.patches.Wedge at 0x1679e01cce0>,\n",
       "  <matplotlib.patches.Wedge at 0x167c293ce90>,\n",
       "  <matplotlib.patches.Wedge at 0x167c292f110>,\n",
       "  <matplotlib.patches.Wedge at 0x167c296d430>,\n",
       "  <matplotlib.patches.Wedge at 0x167c296dca0>,\n",
       "  <matplotlib.patches.Wedge at 0x167c296cc20>],\n",
       " [Text(0.9948601797272288, 0.46931143475639503, '08/04'),\n",
       "  Text(0.2635837413112693, 1.067953000518447, '08/05'),\n",
       "  Text(-0.664783882701883, 0.8763916871466829, '08/06'),\n",
       "  Text(-1.0992638004808621, 0.04023800383184299, '08/07'),\n",
       "  Text(-0.7238149653036678, -0.8283066437029528, '08/08'),\n",
       "  Text(0.21161483810269024, -1.0794531765179871, '08/09'),\n",
       "  Text(0.987344991455729, -0.4849225379865187, '08/10')])"
      ]
     },
     "execution_count": 17,
     "metadata": {},
     "output_type": "execute_result"
    },
    {
     "data": {
      "image/png": "[encoded data removed]",
      "text/plain": [
       "<Figure size 640x480 with 1 Axes>"
      ]
     },
     "metadata": {},
     "output_type": "display_data"
    }
   ],
   "source": [
    "plt.pie(df2['People Not Staying at Home'], labels=('08/04','08/05','08/06','08/07','08/08','08/09','08/10'))"
   ]
  },
  {
   "cell_type": "code",
   "execution_count": null,
   "metadata": {},
   "outputs": [
    {
     "name": "stdout",
     "output_type": "stream",
     "text": [
      "Dask DataFrame Structure:\n",
      "              Trips 1-3 Miles Trips 10-25 Miles Trips 100-250 Miles Trips 100+ Miles Trips 25-100 Miles Trips 25-50 Miles Trips 250-500 Miles Trips 3-5 Miles Trips 5-10 Miles Trips 50-100 Miles Trips 500+ Miles\n",
      "npartitions=1                                                                                                                                                                                                     \n",
      "0                       int64             int64               int64            int64              int64             int64               int64           int64            int64              int64            int64\n",
      "6                         ...               ...                 ...              ...                ...               ...                 ...             ...              ...                ...              ...\n",
      "Dask Name: getitem, 2 expressions\n",
      "Expr=df[['Trips 1-3 Miles', 'Trips 10-25 Miles', 'Trips 100-250 Miles', 'Trips 100+ Miles', 'Trips 25-100 Miles', 'Trips 25-50 Miles', 'Trips 250-500 Miles', 'Trips 3-5 Miles', 'Trips 5-10 Miles', 'Trips 50-100 Miles', 'Trips 500+ Miles']]\n"
     ]
    }
   ],
   "source": [
    "sizes = df2[['Trips 1-3 Miles','Trips 10-25 Miles','Trips 100-250 Miles','Trips 100+ Miles','Trips 25-100 Miles','Trips 25-50 Miles','Trips 250-500 Miles','Trips 3-5 Miles','Trips 5-10 Miles','Trips 50-100 Miles','Trips 500+ Miles']]\n",
    "print(sizes)"
   ]
  }
 ],
 "metadata": {
  "kernelspec": {
   "display_name": "base",
   "language": "python",
   "name": "python3"
  },
  "language_info": {
   "codemirror_mode": {
    "name": "ipython",
    "version": 3
   },
   "file_extension": ".py",
   "mimetype": "text/x-python",
   "name": "python",
   "nbconvert_exporter": "python",
   "pygments_lexer": "ipython3",
   "version": "3.12.7"
  }
 },
 "nbformat": 4,
 "nbformat_minor": 2
}
